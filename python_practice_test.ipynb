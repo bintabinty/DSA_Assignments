{
  "nbformat": 4,
  "nbformat_minor": 0,
  "metadata": {
    "colab": {
      "provenance": []
    },
    "kernelspec": {
      "name": "python3",
      "display_name": "Python 3"
    },
    "language_info": {
      "name": "python"
    }
  },
  "cells": [
    {
      "cell_type": "markdown",
      "source": [
        "PRACTICE EXERCISES ON PYTHON BASICS"
      ],
      "metadata": {
        "id": "5LEoZMOQjqK2"
      }
    },
    {
      "cell_type": "markdown",
      "source": [
        ". Write a Python program which accepts the radius of a circle from the user\n",
        "and compute the area.\n"
      ],
      "metadata": {
        "id": "z43wojJOTMJ0"
      }
    },
    {
      "cell_type": "code",
      "execution_count": null,
      "metadata": {
        "colab": {
          "base_uri": "https://localhost:8080/"
        },
        "id": "trxeFhV1jjP1",
        "outputId": "7d7dd3a8-7bc7-4a5d-f491-e315e53545e8"
      },
      "outputs": [
        {
          "output_type": "execute_result",
          "data": {
            "text/plain": [
              "3.141592653589793"
            ]
          },
          "metadata": {},
          "execution_count": 2
        }
      ],
      "source": [
        "#radius of circle\n",
        "import math\n",
        "math.pi\n"
      ]
    },
    {
      "cell_type": "code",
      "source": [
        "\n",
        "r=float(input(\"Enter the radius\"))\n",
        "area=math.pi*r**2\n",
        "print(\"Area of circle is\",area)"
      ],
      "metadata": {
        "colab": {
          "base_uri": "https://localhost:8080/"
        },
        "id": "x_sI8p2WkrR_",
        "outputId": "1287c2a7-d206-4cab-ae1f-c8fd70dff76c"
      },
      "execution_count": null,
      "outputs": [
        {
          "output_type": "stream",
          "name": "stdout",
          "text": [
            "Enter the radius5\n",
            "Area of circle is 78.53981633974483\n"
          ]
        }
      ]
    },
    {
      "cell_type": "markdown",
      "source": [
        "python program to enter students detail"
      ],
      "metadata": {
        "id": "yPkM92vpk4Lt"
      }
    },
    {
      "cell_type": "code",
      "source": [
        "name=input(\"Enter Name \")\n",
        "rollno=int(input(\"Enter the Roll No \"))\n",
        "mark=int(input(\"Enter the mark \"))\n",
        "print(\"Name:\",name)\n",
        "print(\"Roo No:\",rollno)\n",
        "print(\"Mark:\",mark)\n",
        "\n"
      ],
      "metadata": {
        "colab": {
          "base_uri": "https://localhost:8080/"
        },
        "id": "puxX_RBJk9m7",
        "outputId": "b1e26970-e684-4771-85c6-cb3f2f6108f8"
      },
      "execution_count": null,
      "outputs": [
        {
          "output_type": "stream",
          "name": "stdout",
          "text": [
            "Enter Name binty\n",
            "Enter the Roll No 23\n",
            "Enter the mark 98\n",
            "Name: binty\n",
            "Roo No: 23\n",
            "Mark: 98\n"
          ]
        }
      ]
    },
    {
      "cell_type": "markdown",
      "source": [
        "Write a Python program to get the largest number from a list."
      ],
      "metadata": {
        "id": "U9RYU1-auzt0"
      }
    },
    {
      "cell_type": "code",
      "source": [
        "a=[13,45,7,43,89,92,72]\n",
        "print(\"The Largest Number is \",max(a))"
      ],
      "metadata": {
        "colab": {
          "base_uri": "https://localhost:8080/"
        },
        "id": "ScBfhmEru1Ye",
        "outputId": "e94696e4-ba48-4fb5-dceb-393e71996155"
      },
      "execution_count": null,
      "outputs": [
        {
          "output_type": "stream",
          "name": "stdout",
          "text": [
            "The Largest Number is  92\n"
          ]
        }
      ]
    },
    {
      "cell_type": "markdown",
      "source": [
        "Given a range of first 10 numbers, write a Python program to iterate from\n",
        "start number to the end number and print the sum of the current number\n",
        "and previous number."
      ],
      "metadata": {
        "id": "RUF7IFNOxFi7"
      }
    },
    {
      "cell_type": "code",
      "source": [
        "previous_num=0\n",
        "for i in range(1,11):\n",
        "  print(i)\n",
        "  sum=previous_num+i\n",
        "  print(\"current number\",i,\"+\",\"previous number\",previous_num ,\"= \",sum)\n",
        "  previous_num=i\n"
      ],
      "metadata": {
        "colab": {
          "base_uri": "https://localhost:8080/"
        },
        "id": "ney3vlZwxGqv",
        "outputId": "895f3a93-dd22-46cc-9a60-af5d6e5a55b4"
      },
      "execution_count": null,
      "outputs": [
        {
          "output_type": "stream",
          "name": "stdout",
          "text": [
            "1\n",
            "current number 1 + previous number 0 =  1\n",
            "2\n",
            "current number 2 + previous number 1 =  3\n",
            "3\n",
            "current number 3 + previous number 2 =  5\n",
            "4\n",
            "current number 4 + previous number 3 =  7\n",
            "5\n",
            "current number 5 + previous number 4 =  9\n",
            "6\n",
            "current number 6 + previous number 5 =  11\n",
            "7\n",
            "current number 7 + previous number 6 =  13\n",
            "8\n",
            "current number 8 + previous number 7 =  15\n",
            "9\n",
            "current number 9 + previous number 8 =  17\n",
            "10\n",
            "current number 10 + previous number 9 =  19\n"
          ]
        }
      ]
    },
    {
      "cell_type": "markdown",
      "source": [
        ". Write a Python program to print only those numbers which are divisible\n",
        "of 5.\n"
      ],
      "metadata": {
        "id": "K69GmF3VzguJ"
      }
    },
    {
      "cell_type": "code",
      "source": [
        "\n",
        "lst = []\n",
        "n = int(input(\"Enter number of elements : \"))\n",
        "for i in range(0, n):\n",
        "  n = int(input())\n",
        "  lst.append(n)\n",
        "\n",
        "print(lst)\n",
        "\n",
        "for num in lst:\n",
        "  if num%5==0:\n",
        "    print(num)\n"
      ],
      "metadata": {
        "colab": {
          "base_uri": "https://localhost:8080/"
        },
        "id": "WCYnxvsazh0n",
        "outputId": "a75ae487-8854-47af-e713-05006a54ab94"
      },
      "execution_count": 4,
      "outputs": [
        {
          "output_type": "stream",
          "name": "stdout",
          "text": [
            "Enter number of elements : 3\n",
            "25\n",
            "36\n",
            "40\n",
            "[25, 36, 40]\n",
            "25\n",
            "40\n"
          ]
        }
      ]
    },
    {
      "cell_type": "markdown",
      "source": [
        "Write a Python program to check whether a number is prime or not."
      ],
      "metadata": {
        "id": "WKxLBbGLE0Qx"
      }
    },
    {
      "cell_type": "code",
      "source": [
        "num=int(input(\"Enter a positive number\"))\n",
        "for test in range(2,num//2):\n",
        "  if num%2==0:\n",
        "    print(num,\"is not prime\")\n",
        "    break\n",
        "else:\n",
        "  print(num, \" is a prime number\")"
      ],
      "metadata": {
        "colab": {
          "base_uri": "https://localhost:8080/"
        },
        "id": "Za61kNeJ23MT",
        "outputId": "32b6d7cc-e3b9-4a4a-dbc7-688e1ebd647d"
      },
      "execution_count": null,
      "outputs": [
        {
          "output_type": "stream",
          "name": "stdout",
          "text": [
            "Enter a positive number13\n",
            "13  is a prime number\n"
          ]
        }
      ]
    },
    {
      "cell_type": "markdown",
      "source": [
        "Write a Python program to reverse a list using for loop"
      ],
      "metadata": {
        "id": "6b6FWr4iE8VZ"
      }
    },
    {
      "cell_type": "code",
      "source": [
        "l1=[10,20,30,40,50,60,90,100]\n",
        "print(\"List before reverse \",l1)\n",
        "l2=[]\n",
        "for num in l1:\n",
        "  l2=[num] + (l2)\n",
        "print(\"List after reverse \",l2)\n",
        "\n",
        "\n"
      ],
      "metadata": {
        "colab": {
          "base_uri": "https://localhost:8080/"
        },
        "id": "taiCWyGFFJER",
        "outputId": "732db85d-edd2-4c12-f6f2-ad0a4d9486cd"
      },
      "execution_count": null,
      "outputs": [
        {
          "output_type": "stream",
          "name": "stdout",
          "text": [
            "List before reverse  [10, 20, 30, 40, 50, 60, 90, 100]\n",
            "List after reverse  [100, 90, 60, 50, 40, 30, 20, 10]\n"
          ]
        }
      ]
    },
    {
      "cell_type": "markdown",
      "source": [
        "Write a Python program to print the following pattern."
      ],
      "metadata": {
        "id": "NcfylxwSJgZO"
      }
    },
    {
      "cell_type": "code",
      "source": [
        "n = 5\n",
        "for i in range(0, n):\n",
        "\tfor j in range(0, i+1):\n",
        "\t\tprint(\"*\", end=\" \")\n",
        "\tprint()\n",
        "\n"
      ],
      "metadata": {
        "colab": {
          "base_uri": "https://localhost:8080/"
        },
        "id": "4NHcrDHkJhui",
        "outputId": "36429042-38f3-40c1-86b5-0674e6830d24"
      },
      "execution_count": null,
      "outputs": [
        {
          "output_type": "stream",
          "name": "stdout",
          "text": [
            "* \n",
            "* * \n",
            "* * * \n",
            "* * * * \n",
            "* * * * * \n"
          ]
        }
      ]
    },
    {
      "cell_type": "markdown",
      "source": [
        "Write a Python program to find the maximum of three numbers"
      ],
      "metadata": {
        "id": "FCI2qGphL2z7"
      }
    },
    {
      "cell_type": "code",
      "source": [
        "numbers = [4, 9, 2, 7, 5, 11, 8]\n",
        "max_number = numbers[0]\n",
        "\n",
        "\n",
        "for num in numbers[1:]:\n",
        "  if num > max_number:\n",
        "    max_number = num\n",
        "print(\"The largest number is:\", max_number)"
      ],
      "metadata": {
        "colab": {
          "base_uri": "https://localhost:8080/"
        },
        "id": "0JObCyLpQYZv",
        "outputId": "8df999bc-fb4a-46eb-f2e9-eb82cbc28867"
      },
      "execution_count": null,
      "outputs": [
        {
          "output_type": "stream",
          "name": "stdout",
          "text": [
            "The largest number is: 11\n"
          ]
        }
      ]
    },
    {
      "cell_type": "markdown",
      "source": [
        "Write a Python program to construct the following pattern, using a\n",
        "nested for loop."
      ],
      "metadata": {
        "id": "BfAPZvvRU4sc"
      }
    },
    {
      "cell_type": "code",
      "source": [
        "n=5;\n",
        "for i in range(n):\n",
        "    for j in range(i):\n",
        "        print ('* ', end=\"\")\n",
        "    print('')\n",
        "\n",
        "for i in range(n,0,-1):\n",
        "    for j in range(i):\n",
        "        print('* ', end=\"\")\n",
        "    print('')"
      ],
      "metadata": {
        "colab": {
          "base_uri": "https://localhost:8080/"
        },
        "id": "LgHvw3XWU63b",
        "outputId": "a2f54879-c50e-4c78-ef9a-de373c66cd48"
      },
      "execution_count": null,
      "outputs": [
        {
          "output_type": "stream",
          "name": "stdout",
          "text": [
            "\n",
            "* \n",
            "* * \n",
            "* * * \n",
            "* * * * \n",
            "* * * * * \n",
            "* * * * \n",
            "* * * \n",
            "* * \n",
            "* \n"
          ]
        }
      ]
    },
    {
      "cell_type": "markdown",
      "source": [
        "PRACTICE EXERCISES ON PYTHON BASICS -2"
      ],
      "metadata": {
        "id": "H3M-GJDZjVrY"
      }
    },
    {
      "cell_type": "markdown",
      "source": [
        "Write a Python program to accept a string value from the user and display\n",
        "the count of each character in that string."
      ],
      "metadata": {
        "id": "7EU8ENZggr7P"
      }
    },
    {
      "cell_type": "code",
      "source": [
        "n=input(\"Enter the String: \")\n",
        "s={}\n",
        "for i in n:\n",
        "    if i in s:\n",
        "        s[i]+=1\n",
        "    else:\n",
        "        s[i]=1\n",
        "print(s)\n"
      ],
      "metadata": {
        "colab": {
          "base_uri": "https://localhost:8080/"
        },
        "id": "45GDxsZzgtYo",
        "outputId": "8ac75a58-d64d-42cf-d565-df5ce0a24f80"
      },
      "execution_count": null,
      "outputs": [
        {
          "output_type": "stream",
          "name": "stdout",
          "text": [
            "Enter the String: assembly\n",
            "{'a': 1, 's': 2, 'e': 1, 'm': 1, 'b': 1, 'l': 1, 'y': 1}\n"
          ]
        }
      ]
    },
    {
      "cell_type": "markdown",
      "source": [
        " Write a Python function to find the maximum of three numbers Sample"
      ],
      "metadata": {
        "id": "eUsaWFcSiw1D"
      }
    },
    {
      "cell_type": "code",
      "source": [
        "def maximum(n1,n2,n3):\n",
        "  l1=[n1,n2,n3]\n",
        "  return max(l1)\n",
        "n1=input(\"Enter 1st Number \")\n",
        "n2=input(\"Enter 2nd Number \")\n",
        "n3=input(\"Enter 3rd Number \")\n",
        "\n",
        "print(\"The maximum of three number is \",maximum(n1, n2, n3))\n",
        "\n",
        "\n"
      ],
      "metadata": {
        "colab": {
          "base_uri": "https://localhost:8080/"
        },
        "id": "2W-Ca3YfiyIp",
        "outputId": "1c37ec86-4084-4bf4-b655-26f9c743e07d"
      },
      "execution_count": null,
      "outputs": [
        {
          "output_type": "stream",
          "name": "stdout",
          "text": [
            "Enter 1st Number 45\n",
            "Enter 2nd Number 39\n",
            "Enter 3rd Number 58\n",
            "Rhe maximum of three number is  58\n"
          ]
        }
      ]
    },
    {
      "cell_type": "markdown",
      "source": [
        " Write a Python function called exponent(base,exp) that returns an\n",
        "integer value of base raises to the power of exp"
      ],
      "metadata": {
        "id": "0MD7kXxhu-IO"
      }
    },
    {
      "cell_type": "code",
      "source": [
        "def power(base,exp):\n",
        "    if(exp==1):\n",
        "        return(base)\n",
        "    else:\n",
        "        return(base*power(base,exp-1))\n",
        "base=int(input(\"Enter base: \"))\n",
        "exp=int(input(\"Enter exponential value: \"))\n",
        "print(\"The output is\",power(base,exp))\n"
      ],
      "metadata": {
        "colab": {
          "base_uri": "https://localhost:8080/"
        },
        "id": "Ewpu0kJyvAVz",
        "outputId": "6e918768-6d56-4a63-b5a1-75ba8654c230"
      },
      "execution_count": null,
      "outputs": [
        {
          "output_type": "stream",
          "name": "stdout",
          "text": [
            "Enter base: 2\n",
            "Enter exponential value: 3\n",
            "The output is 8\n"
          ]
        }
      ]
    },
    {
      "cell_type": "markdown",
      "source": [
        "Write a Python function that takes a positive integer and returns the sum\n",
        "of the cube of all the positive integers smaller than the specified number."
      ],
      "metadata": {
        "id": "nSOEt-av02Rt"
      }
    },
    {
      "cell_type": "code",
      "source": [
        "def sum_cube(n):\n",
        "  n-=1\n",
        "  total=0\n",
        "  while(n>0):\n",
        "    total+=n*n*n\n",
        "    n-=1\n",
        "  return total\n",
        "n1=int(input(\"Enter the number \"))\n",
        "print(\"sum of cubes of number \",sum_cube(n1))\n",
        "\n",
        "\n"
      ],
      "metadata": {
        "colab": {
          "base_uri": "https://localhost:8080/"
        },
        "id": "kqh7CqgKxozB",
        "outputId": "f9626830-da3c-425d-d182-85717eeb6ea0"
      },
      "execution_count": null,
      "outputs": [
        {
          "output_type": "stream",
          "name": "stdout",
          "text": [
            "Enter the number 4\n",
            "sum of cubes of number  36\n"
          ]
        }
      ]
    },
    {
      "cell_type": "markdown",
      "source": [
        "Write a Python program which iterates from 1 to 10. For multiples of 2,\n",
        "print “Fizz” instead of the number and for the multiples of 5, print “Buzz”.\n",
        "For numbers which are multiples of both 2 and 5, print “FizzBuzz”.\n",
        "Sample input: numbers from 1 to 10 Sample output: 1 Fizz 3 Fizz Buzz\n",
        "Fizz 7 Fizz 9 FizzBuzz"
      ],
      "metadata": {
        "id": "tdpZ-aKA5Gg3"
      }
    },
    {
      "cell_type": "code",
      "source": [
        "for i in range(1,11):\n",
        "  dataToPrint=\"\"\n",
        "  #if(i%2==0 and i%5==0):\n",
        "   # dataToPrint=\"FizzBuzz\"\n",
        "\n",
        "  if(i%2==0):\n",
        "      dataToPrint=dataToPrint+\"Fizz\"\n",
        "  if(i%5==0):\n",
        "      dataToPrint=dataToPrint+\"Buzz\"\n",
        "  if dataToPrint==\"\":\n",
        "      dataToPrint=i\n",
        "  print(dataToPrint)\n",
        "\n",
        "\n"
      ],
      "metadata": {
        "colab": {
          "base_uri": "https://localhost:8080/"
        },
        "id": "pyiY5KR02liN",
        "outputId": "20b941a4-ad48-4122-89f4-73302bc110cb"
      },
      "execution_count": null,
      "outputs": [
        {
          "output_type": "stream",
          "name": "stdout",
          "text": [
            "1\n",
            "Fizz\n",
            "3\n",
            "Fizz\n",
            "Buzz\n",
            "Fizz\n",
            "7\n",
            "Fizz\n",
            "9\n",
            "FizzBuzz\n"
          ]
        }
      ]
    },
    {
      "cell_type": "markdown",
      "source": [
        "Write a Python program to find the most frequent item in a list of\n",
        "numbers. Sample input: 2, 3, 4, 2, 5, 2 Sample output: 2\n"
      ],
      "metadata": {
        "id": "H7rHHuw-_Hgo"
      }
    },
    {
      "cell_type": "code",
      "source": [
        "\n",
        "def frequent(lst):\n",
        "  return max(set(lst), key=lst.count)\n",
        "\n",
        "\n",
        "l1=[5,7,8,9,8,3,6,5,8,4,4,7,8,6,3,8]\n",
        "print(frequent(l1))\n"
      ],
      "metadata": {
        "colab": {
          "base_uri": "https://localhost:8080/"
        },
        "id": "ZPnVGwS9_IuV",
        "outputId": "5869a03f-dbed-40db-d05c-d5b958103e6c"
      },
      "execution_count": null,
      "outputs": [
        {
          "output_type": "stream",
          "name": "stdout",
          "text": [
            "8\n"
          ]
        }
      ]
    },
    {
      "cell_type": "code",
      "source": [
        "l1 = [5,7,8,9,8,3,6,5,8,4,4,7,8,6,3,8]\n",
        "print(\"Given List:\\n\",l1)\n",
        "res = max(set(l1),key=l1.count)\n",
        "print(\"Element with highest frequency:\\n\",res)"
      ],
      "metadata": {
        "colab": {
          "base_uri": "https://localhost:8080/"
        },
        "id": "diwVKLITBoVl",
        "outputId": "ed78b865-981d-46bd-d1f3-ba78f3ae46a3"
      },
      "execution_count": null,
      "outputs": [
        {
          "output_type": "stream",
          "name": "stdout",
          "text": [
            "Given List:\n",
            " [5, 7, 8, 9, 8, 3, 6, 5, 8, 4, 4, 7, 8, 6, 3, 8]\n",
            "Element with highest frequency:\n",
            " 8\n"
          ]
        }
      ]
    },
    {
      "cell_type": "markdown",
      "source": [
        "Write a Python program to find the sum of squares of the numbers in a\n",
        "list."
      ],
      "metadata": {
        "id": "3_pyNcHYWBo5"
      }
    },
    {
      "cell_type": "code",
      "source": [
        "l1=[2,1,3,1]\n",
        "total=0\n",
        "for i in l1:\n",
        "  total+=i*i\n",
        "print (\"The sum of squares is \",total)\n",
        "\n",
        "\n",
        "\n",
        "\n"
      ],
      "metadata": {
        "colab": {
          "base_uri": "https://localhost:8080/"
        },
        "id": "vR3s0aOHBnsT",
        "outputId": "b9594a33-ac15-4c24-9d56-4fe25fa755c0"
      },
      "execution_count": null,
      "outputs": [
        {
          "output_type": "stream",
          "name": "stdout",
          "text": [
            "The sum of squares is  15\n"
          ]
        }
      ]
    },
    {
      "cell_type": "markdown",
      "source": [
        "Write a Python program using for loop that will iterate from 1 to 15. For\n",
        "each iteration, check if the current number is odd or even, and display the\n",
        "message to the screen as odd or even"
      ],
      "metadata": {
        "id": "f-c3kLLaY6fY"
      }
    },
    {
      "cell_type": "code",
      "source": [
        "for i in range(1,16):\n",
        "  if(i%2==0):\n",
        "    print(i,\"-even\")\n",
        "  else:\n",
        "   print(i,\"-odd\")\n",
        "\n"
      ],
      "metadata": {
        "colab": {
          "base_uri": "https://localhost:8080/"
        },
        "id": "umFLomi1Y9Ai",
        "outputId": "4969d0ed-70d3-41d3-b951-46cbcbc3287d"
      },
      "execution_count": null,
      "outputs": [
        {
          "output_type": "stream",
          "name": "stdout",
          "text": [
            "1 -odd\n",
            "2 -even\n",
            "3 -odd\n",
            "4 -even\n",
            "5 -odd\n",
            "6 -even\n",
            "7 -odd\n",
            "8 -even\n",
            "9 -odd\n",
            "10 -even\n",
            "11 -odd\n",
            "12 -even\n",
            "13 -odd\n",
            "14 -even\n",
            "15 -odd\n"
          ]
        }
      ]
    },
    {
      "cell_type": "markdown",
      "source": [
        "Write a Python program to convert temperatures to and from Celsius\n",
        "Fahrenheit. [Formula: c/5=f-32/9 where c=temperature in Celsius and f=\n",
        "temperature in Fahrenheit.]"
      ],
      "metadata": {
        "id": "rbbj7W_abVYs"
      }
    },
    {
      "cell_type": "code",
      "source": [
        "f=input(\"Enter the temprature in fahrenheit\")\n",
        "celcius=round((int(f)-32)*5/9,2)\n",
        "print(\"Temprature in celcius = \",celcius)"
      ],
      "metadata": {
        "colab": {
          "base_uri": "https://localhost:8080/"
        },
        "id": "wBUwoCmPbSAL",
        "outputId": "a49c6e7c-1f0e-41c8-c352-af93d0506bee"
      },
      "execution_count": null,
      "outputs": [
        {
          "output_type": "stream",
          "name": "stdout",
          "text": [
            "Enter the temprature in fahrenheit41\n",
            "Temprature in celcius =  5.0\n"
          ]
        }
      ]
    },
    {
      "cell_type": "markdown",
      "source": [
        "Write a Python function to calculate the factorial of a number"
      ],
      "metadata": {
        "id": "kmgorzj4GgO1"
      }
    },
    {
      "cell_type": "code",
      "source": [
        "def factorial(n):\n",
        "    if n < 2:\n",
        "        return 1\n",
        "    else:\n",
        "        return n * factorial(n-1)\n",
        "n1=(int(input(\"Enter a number\")))\n",
        "print(\"Factorial of \",n1,\"is\",factorial(n1))"
      ],
      "metadata": {
        "colab": {
          "base_uri": "https://localhost:8080/"
        },
        "id": "h-Wm18-DIyQw",
        "outputId": "9be65e56-fe94-42b6-b895-a521726d5bc9"
      },
      "execution_count": null,
      "outputs": [
        {
          "output_type": "stream",
          "name": "stdout",
          "text": [
            "Enter a number3\n",
            "Factorial of  3 is 6\n"
          ]
        }
      ]
    },
    {
      "cell_type": "code",
      "source": [
        "\n",
        "\n",
        "\n"
      ],
      "metadata": {
        "id": "5kednGiwGjEU"
      },
      "execution_count": null,
      "outputs": []
    }
  ]
}